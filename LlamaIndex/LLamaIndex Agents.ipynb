{
 "cells": [
  {
   "cell_type": "markdown",
   "id": "8939735f-d1c4-4f5a-8c20-dbe6a865eb6d",
   "metadata": {},
   "source": [
    "# Building a Basic Agent"
   ]
  },
  {
   "cell_type": "code",
   "execution_count": 6,
   "id": "94dc6dac-8d96-4afe-a2f5-6bfab96d7607",
   "metadata": {},
   "outputs": [],
   "source": [
    "from llama_index.core.agent import ReActAgent\n",
    "# from llama_index.llms.openai import OpenAI\n",
    "from llama_index.llms.ollama import Ollama\n",
    "from llama_index.core.tools import FunctionTool"
   ]
  },
  {
   "cell_type": "markdown",
   "id": "32cdddc0-5f13-4943-ae32-96be3dab98ff",
   "metadata": {},
   "source": [
    "## Create basic tools"
   ]
  },
  {
   "cell_type": "code",
   "execution_count": 5,
   "id": "9ac65782-abeb-49b1-b31f-5c606f39524f",
   "metadata": {},
   "outputs": [],
   "source": [
    "def multiply(a: float, b: float) -> float:\n",
    "    \"\"\"Multiply two numbers and returns the product\"\"\"\n",
    "    return a*b\n",
    "\n",
    "\n",
    "# Create a multiply tool\n",
    "multiply_tool = FunctionTool.from_defaults(fn=multiply)\n",
    "\n",
    "def add(a: float, b: float) -> float:\n",
    "    \"\"\"Add two numbers and returns the sum\"\"\"\n",
    "    return a+b\n",
    "\n",
    "add_tool = FunctionTool.from_defaults(fn=add)\n"
   ]
  },
  {
   "cell_type": "markdown",
   "id": "b6b0e1ae-2a7a-4613-8c36-1f46ae00aa58",
   "metadata": {},
   "source": [
    "## Initialise LLM"
   ]
  },
  {
   "cell_type": "code",
   "execution_count": 7,
   "id": "ca5ac02c-af33-4f4a-9f7d-ffbfef870a97",
   "metadata": {},
   "outputs": [],
   "source": [
    "llm = Ollama(model='llama3.2', request_timeout=120)"
   ]
  },
  {
   "cell_type": "markdown",
   "id": "ba3bcd55-800c-4002-8345-96c8696d8266",
   "metadata": {},
   "source": [
    "## Initialise Agent"
   ]
  },
  {
   "cell_type": "code",
   "execution_count": 9,
   "id": "405d945e-4d23-4e79-af80-cd9d0162c639",
   "metadata": {},
   "outputs": [],
   "source": [
    "agent = ReActAgent.from_tools(tools=[multiply_tool, add_tool], llm=llm, verbose=True)"
   ]
  },
  {
   "cell_type": "markdown",
   "id": "951ec04a-4512-4b5c-b5a4-69992a18c4c3",
   "metadata": {},
   "source": [
    "## Testing Agent"
   ]
  },
  {
   "cell_type": "code",
   "execution_count": 10,
   "id": "049789d0-3cc8-483f-8497-f88813e0b984",
   "metadata": {},
   "outputs": [
    {
     "name": "stdout",
     "output_type": "stream",
     "text": [
      "> Running step 0ed9f81f-3b1b-4e92-bc91-b1b31f59ae45. Step input: What is 20+(2*4)? Use a tool to calculate every step.\n",
      "\u001b[1;3;38;5;200mThought: The current language of the user is: English. I need to use a tool to help me answer the question.\n",
      "Action: add\n",
      "Action Input: {'a': 20, 'b': 8}\n",
      "\u001b[0m\u001b[1;3;34mObservation: 28\n",
      "\u001b[0m> Running step 9fb479e4-2e86-49c0-89e5-6b460afde029. Step input: None\n",
      "\u001b[1;3;38;5;200mThought: I can continue with the calculation. The current equation is 28 + (2 * 4). To complete this, we need to multiply 2 and 4 first.\n",
      "Action: multiply\n",
      "Action Input: {'a': 2, 'b': 4}\n",
      "\u001b[0m\u001b[1;3;34mObservation: 8\n",
      "\u001b[0m> Running step 2ce58407-dec4-4083-bb19-816026c36242. Step input: None\n",
      "\u001b[1;3;38;5;200mThought: Now that I have the result of the multiplication (8), I can add it to 20 to get the final answer.\n",
      "Action: add\n",
      "Action Input: {'a': 28, 'b': 8}\n",
      "\u001b[0m\u001b[1;3;34mObservation: 36\n",
      "\u001b[0m> Running step 4d1cbdc9-e93d-4a4c-a045-1b6a2f5a3992. Step input: None\n",
      "\u001b[1;3;34mObservation: Error: Could not parse output. Please follow the thought-action-input format. Try again.\n",
      "\u001b[0m> Running step 1e53c067-01bc-456a-8f13-a2ebcf026e20. Step input: None\n",
      "\u001b[1;3;38;5;200mThought: The user wants me to repeat the previous actions.\n",
      "Action: add\n",
      "Action Input: {'a': 20, 'b': 8}\n",
      "\u001b[0m\u001b[1;3;34mObservation: 28\n",
      "\u001b[0m> Running step b5127a19-89f3-4173-b6c8-5bfbda68d7bf. Step input: None\n",
      "\u001b[1;3;38;5;200mThought: I should multiply 2 and 4 before adding them to 20. So, first, I will use the tool to multiply 2 and 4.\n",
      "Action: multiply\n",
      "Action Input: {'a': 2, 'b': 4}\n",
      "\u001b[0m\u001b[1;3;34mObservation: 8\n",
      "\u001b[0m> Running step 351d1969-8e6d-4710-bd9c-86c6b81b4dca. Step input: None\n",
      "\u001b[1;3;38;5;200mThought: Now that I have the result of the multiplication (8), I can add it to 20 to get the final answer.\n",
      "Action: add\n",
      "Action Input: {'a': 20, 'b': 8}\n",
      "\u001b[0m\u001b[1;3;34mObservation: 28\n",
      "\u001b[0m> Running step c9d8bb0b-f82e-400f-9716-f32ea9f8c75a. Step input: None\n",
      "\u001b[1;3;38;5;200mThought: The equation is now complete and we have the correct result.\n",
      "Answer: The equation 20 + (2*4) equals 28.\n",
      "\u001b[0m"
     ]
    }
   ],
   "source": [
    "response = agent.chat(\"What is 20+(2*4)? Use a tool to calculate every step.\")"
   ]
  },
  {
   "cell_type": "markdown",
   "id": "2829a881-6b2a-40ff-91ae-2701e8427650",
   "metadata": {},
   "source": [
    "# RAG with Agents"
   ]
  },
  {
   "cell_type": "code",
   "execution_count": 28,
   "id": "6fcb8063-bfc5-45d3-a278-3d91880000c8",
   "metadata": {},
   "outputs": [],
   "source": [
    "from llama_index.core import SimpleDirectoryReader, VectorStoreIndex, Settings\n",
    "from llama_index.embeddings.huggingface import HuggingFaceEmbedding"
   ]
  },
  {
   "cell_type": "markdown",
   "id": "cb7d2d3b-dff2-48e7-adc8-8bfc529864c1",
   "metadata": {},
   "source": [
    "## Load the data"
   ]
  },
  {
   "cell_type": "code",
   "execution_count": 23,
   "id": "140a5791-3875-4f1d-ae02-e9974fe591e4",
   "metadata": {},
   "outputs": [
    {
     "data": {
      "text/plain": [
       "Document(id_='7b95e77b-4c27-4a1b-a14b-c9a711e2c70a', embedding=None, metadata={'page_label': '1', 'file_name': '2023_canadian_budget.pdf', 'file_path': '/Users/jnk789/Developer/LLM/Building-LLMs-with-PyTorch/LlamaIndex/data/2023_canadian_budget.pdf', 'file_type': 'application/pdf', 'file_size': 376126, 'creation_date': '2024-12-26', 'last_modified_date': '2024-12-26'}, excluded_embed_metadata_keys=['file_name', 'file_type', 'file_size', 'creation_date', 'last_modified_date', 'last_accessed_date'], excluded_llm_metadata_keys=['file_name', 'file_type', 'file_size', 'creation_date', 'last_modified_date', 'last_accessed_date'], relationships={}, metadata_template='{key}: {value}', metadata_separator='\\n', text_resource=MediaResource(embeddings=None, data=None, text='‹\\xa02022 2024›\\n2023 budget of the\\nCanadian federal\\ngovernment\\nSubmitted 28 March 2023\\nPresented 28 March 2023\\nParliament 44th\\nParty Liberal\\nFinance\\nminister\\nChrystia Freeland\\nTotal revenue $456.8 billion\\n(projected)\\nTotal\\nexpenditures\\n$496.9 billion\\n(projected)\\nDeﬁcit $40.1 billion\\n(projected)[ 1 ] \\nGDP TBA\\nWebsite 2023 Budget (http\\ns://www.budget.can\\nada.ca/2023/home-\\naccueil-en.html)\\n2023 Canadian federal budget\\nThe Canadian federal budget for the fiscal years of 2023–24 was\\npresented to the House of Commons by Finance Minister Chrystia\\nFreeland on 28 March 2023.[2] The budget was meant to reflect\\nPrime Minister Justin Trudeau\\'s stated policy objective to \"make\\nlife more affordable for Canadians\"[3] while also reducing\\ngovernment expenditures.[4]\\nThe 2023 budget is the seventh budget document introduced in\\nthe House of Commons under the premiership of Justin Trudeau.\\nIt comes at the heel of the first anniversary of the Russian\\ninvasion of Ukraine, following which Canada sent one billion\\ndollars in military aid to Ukraine.[5]\\nUnited States President Joe Biden\\'s Inflation Reduction Act of\\n2022 included unprecedented investments in initiatives aimed at\\npromoting Green growth. Canada was expected to announce\\nsimilar investments in its 2023 budget in order to remain\\ncompetitive with its southern neighbour.[6]\\nOn 22 June 2023, all parts of the budget received Royal assent,\\nand became law.[7]\\nThe budget included $43B in net new spending over six years,[8]\\nincluding $20B for a new 15 per cent refundable tax credit to\\npromote investment in green technologies.[9] $13B was also\\nallocated to implement a means-tested dental care program, a\\npolicy originating in the NDP-Liberal deal of 2022.[8] The Canadian Dental Care Plan began rollout in\\nDecember 2023.[10]\\nThe budget introduced a \"grocery rebate\" of up to $467 for eligible families and up to $234 for eligible\\nsingle people with no kids. The Canada Student Grants also saw a 40% increase in funding.[11]\\nFreeland issued $15B of spending cuts, achieved by defunding public services and cancelling\\npreviously announced programs.[12] A new tax 2% on stock buybacks was also introduced.[11]\\nBackground\\nMeasures\\nHousing\\n6/19/24, 1:59 PM 2023 Canadian federal budget - Wikipedia\\nhttps://en.wikipedia.org/wiki/2023_Canadian_federal_budget 1/4', mimetype=None, path=None, url=None), image_resource=None, audio_resource=None, video_resource=None, text_template='{metadata_str}\\n\\n{content}')"
      ]
     },
     "execution_count": 23,
     "metadata": {},
     "output_type": "execute_result"
    }
   ],
   "source": [
    "documents = SimpleDirectoryReader('./data/').load_data()\n",
    "documents[0]"
   ]
  },
  {
   "cell_type": "markdown",
   "id": "8fec97ea-8454-401b-be10-17e3fb49c89f",
   "metadata": {},
   "source": [
    "## Setup Models"
   ]
  },
  {
   "cell_type": "code",
   "execution_count": 29,
   "id": "bed04523-6c02-4599-b444-2c5c9101574b",
   "metadata": {},
   "outputs": [],
   "source": [
    "Settings.llm = Ollama(model=\"llama3.2\", timeout=120.0)"
   ]
  },
  {
   "cell_type": "code",
   "execution_count": 30,
   "id": "3225c808-957b-427f-b003-b2951ccb740d",
   "metadata": {},
   "outputs": [],
   "source": [
    "Settings.embed_model = HuggingFaceEmbedding(model_name=\"BAAI/bge-base-en-v1.5\")"
   ]
  },
  {
   "cell_type": "markdown",
   "id": "d77cb093-e30f-42d3-9d27-e628b4366f20",
   "metadata": {},
   "source": [
    "## RAG"
   ]
  },
  {
   "cell_type": "code",
   "execution_count": 31,
   "id": "00c1bf7a-b908-48bb-b339-e0b183998bd1",
   "metadata": {},
   "outputs": [],
   "source": [
    "index = VectorStoreIndex.from_documents(documents)"
   ]
  },
  {
   "cell_type": "code",
   "execution_count": 32,
   "id": "2e267462-2f17-478c-956f-a898f373f5ba",
   "metadata": {},
   "outputs": [],
   "source": [
    "query_engine = index.as_query_engine()"
   ]
  },
  {
   "cell_type": "code",
   "execution_count": 33,
   "id": "b0da9289-2516-4ec3-9e55-122b013ccd14",
   "metadata": {},
   "outputs": [
    {
     "name": "stdout",
     "output_type": "stream",
     "text": [
      "$496.9 billion\n"
     ]
    }
   ],
   "source": [
    "response = query_engine.query(\n",
    "    \"What was the total amount of the 2023 Canadian federal budget?\"\n",
    ")\n",
    "print(response)"
   ]
  },
  {
   "cell_type": "markdown",
   "id": "0192252d-ccd0-44e5-8df8-b3cf2ef0ab59",
   "metadata": {},
   "source": [
    "## Adding Query Engine Tool"
   ]
  },
  {
   "cell_type": "code",
   "execution_count": 34,
   "id": "2b2bb879-d9ea-4f21-ab16-f61755377012",
   "metadata": {},
   "outputs": [],
   "source": [
    "from llama_index.core.tools import QueryEngineTool"
   ]
  },
  {
   "cell_type": "markdown",
   "id": "b476062e-d956-49c6-9738-f50551fa1b07",
   "metadata": {},
   "source": [
    "Now we turn our query engine into a tool by supplying the appropriate metadata (for the python functions, this was being automatically extracted so we didn't need to add it):"
   ]
  },
  {
   "cell_type": "code",
   "execution_count": 36,
   "id": "5e496e7a-6ab6-4148-945d-3412d36dc33e",
   "metadata": {},
   "outputs": [],
   "source": [
    "budget_tool = QueryEngineTool.from_defaults(\n",
    "    query_engine=query_engine,\n",
    "    name=\"canadian_budget_2023\",\n",
    "    description=\"A RAG engine with some basic facts about the 2023 Canadian federal budget.\",\n",
    ")"
   ]
  },
  {
   "cell_type": "markdown",
   "id": "b1968aaa-9f89-461c-9260-f2115c85f12f",
   "metadata": {},
   "source": [
    "We modify our agent by adding this engine to our array of tools (we also remove the llm parameter, since it's now provided by settings):\n",
    "\n"
   ]
  },
  {
   "cell_type": "code",
   "execution_count": 43,
   "id": "da188b89-30ee-4e74-80e8-28be3d6c43b5",
   "metadata": {},
   "outputs": [],
   "source": [
    "agent = ReActAgent.from_tools([add_tool, multiply_tool, budget_tool], verbose=True, max_iterations=20)"
   ]
  },
  {
   "cell_type": "markdown",
   "id": "742ecdbd-fe96-482e-98ad-147f5fb0df5a",
   "metadata": {},
   "source": [
    "## Query the Agent tool"
   ]
  },
  {
   "cell_type": "code",
   "execution_count": 45,
   "id": "4f84af10-d3d0-4799-847f-8fe33197b596",
   "metadata": {},
   "outputs": [
    {
     "name": "stdout",
     "output_type": "stream",
     "text": [
      "> Running step a98068c4-22ea-442b-a9a8-ca515bdd6492. Step input: What is the total amount of Canadian budegt in Indian Rupee. Provided 1 Canadian Dollar equals to 59 Indian Ruppe. Go step by step, using a tool to do any math\n",
      "\u001b[1;3;38;5;200mThought: The user wants me to calculate the total amount of Canadian budget in Indian Rupees and needs my assistance with this task.\n",
      "Action: add\n",
      "Action Input: {'a': 1000, 'b': 59}\n",
      "\u001b[0m\u001b[1;3;34mObservation: 1059\n",
      "\u001b[0m> Running step cdb80b4a-ea08-4d15-af56-aba867f57e8e. Step input: None\n",
      "\u001b[1;3;38;5;200mThought: I used the tool \"add\" to calculate the total amount of Canadian budget in Indian Rupees and got an observation that the result is 1059.\n",
      "Action: multiply\n",
      "Action Input: {'a': 1000, 'b': 59}\n",
      "\u001b[0m\u001b[1;3;34mObservation: 59000\n",
      "\u001b[0m> Running step 70a3fb34-b8fb-4288-afa2-6be949184495. Step input: None\n",
      "\u001b[1;3;34mObservation: Error: Could not parse output. Please follow the thought-action-input format. Try again.\n",
      "\u001b[0m> Running step 8ff2b071-71da-4a01-93ca-badb19933765. Step input: None\n",
      "\u001b[1;3;38;5;200mThought: I made a mistake in using the tool \"multiply\" and got an error.\n",
      "Action: add\n",
      "Action Input: {'a': 1000, 'b': 59}\n",
      "\u001b[0m\u001b[1;3;34mObservation: 1059\n",
      "\u001b[0m> Running step 35223724-5797-4162-90ae-45019222672a. Step input: None\n",
      "\u001b[1;3;38;5;200mThought: To convert the amount from Canadian dollars to Indian rupees, I need to multiply the amount by the exchange rate (1 CAD = 59 INR).\n",
      "Action: multiply\n",
      "Action Input: {'a': 1000, 'b': 59}\n",
      "\u001b[0m\u001b[1;3;34mObservation: 59000\n",
      "\u001b[0m> Running step 0ec9f5e0-7988-4922-ad81-0c4732935454. Step input: None\n",
      "\u001b[1;3;38;5;200mThought: I should have done this calculation earlier. Now that I know the total amount in Indian rupees is 59000, I can think of a different approach.\n",
      "Action: canadian_budget_2023\n",
      "Action Input: {'input': 'total amount in Canadian dollars'}\n",
      "\u001b[0m\u001b[1;3;34mObservation: $496.9 billion\n",
      "\u001b[0m> Running step 7aff64e5-5df2-4c3f-b9b2-e58f84372960. Step input: None\n",
      "\u001b[1;3;38;5;200mThought: The tool \"canadian_budget_2023\" provided the total amount in Canadian dollars, which is $496.9 billion.\n",
      "Action: add\n",
      "Action Input: {'a': 596900000000, 'b': 1}\n",
      "\u001b[0m\u001b[1;3;34mObservation: 596900000001\n",
      "\u001b[0m> Running step 2d959808-ef3e-4ab0-99d5-c7e1550c6fcf. Step input: None\n",
      "\u001b[1;3;38;5;200mThought: I should have used the exchange rate to convert this amount directly to Indian rupees instead of using the \"add\" tool.\n",
      "Action: multiply\n",
      "Action Input: {'a': 596900000000, 'b': 59}\n",
      "\u001b[0m\u001b[1;3;34mObservation: 35217100000000\n",
      "\u001b[0m> Running step 20ac2efa-42a3-4157-a774-23421dd075af. Step input: None\n",
      "\u001b[1;3;38;5;200mThought: I think there's an error in my previous calculation. The result doesn't seem to match the expected conversion.\n",
      "Thought: To verify, I should go back and check my calculations or use a different approach.\n",
      "Action: multiply\n",
      "Action Input: {'a': 596900000000, 'b': 59}\n",
      "\u001b[0m\u001b[1;3;34mObservation: 35217100000000\n",
      "\u001b[0m> Running step d219f06c-b69c-4c0d-b44c-87e976c92e8c. Step input: None\n",
      "\u001b[1;3;38;5;200mThought: It seems I was correct initially, the result is indeed 35,217,100,000,000.\n",
      " Thought: To confirm this answer, let's use a more straightforward approach using the exchange rate.\n",
      "Answer: The total amount of Canadian budget in Indian rupees is approximately ₹35,217,100,000,000.\n",
      "\u001b[0m"
     ]
    }
   ],
   "source": [
    "response = agent.query(\n",
    "    \"What is the total amount of Canadian budegt in Indian Rupee. Provided 1 Canadian Dollar equals to 59 Indian Rupee. Go step by step, using a tool to do any math\"\n",
    ")"
   ]
  },
  {
   "cell_type": "code",
   "execution_count": null,
   "id": "4d84d9e8-8a50-4c80-846c-c2090935a08c",
   "metadata": {},
   "outputs": [],
   "source": []
  }
 ],
 "metadata": {
  "kernelspec": {
   "display_name": "Python 3 (ipykernel)",
   "language": "python",
   "name": "python3"
  },
  "language_info": {
   "codemirror_mode": {
    "name": "ipython",
    "version": 3
   },
   "file_extension": ".py",
   "mimetype": "text/x-python",
   "name": "python",
   "nbconvert_exporter": "python",
   "pygments_lexer": "ipython3",
   "version": "3.10.14"
  }
 },
 "nbformat": 4,
 "nbformat_minor": 5
}
